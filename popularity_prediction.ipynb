{
 "cells": [
  {
   "cell_type": "markdown",
   "metadata": {},
   "source": [
    "# Data reading and cleaning"
   ]
  },
  {
   "cell_type": "code",
   "execution_count": 23,
   "metadata": {},
   "outputs": [
    {
     "name": "stdout",
     "output_type": "stream",
     "text": [
      "usVideos filtered contain:\n",
      "Index(['video_id', 'category_id', 'comments_disabled', 'ratings_disabled',\n",
      "       'video_error_or_removed', 'title_count', 'channel_title_count',\n",
      "       'tags_count', 'tags_avg_length', 'popular'],\n",
      "      dtype='object')\n"
     ]
    }
   ],
   "source": [
    "import pandas as pd\n",
    "import numpy as np\n",
    "\n",
    "file_path = \"./archive/USvideos.csv\"\n",
    "usVideos = pd.read_csv(file_path)\n",
    "\n",
    "# Clean null values and format dates\n",
    "# print(\"Raw usVideos\")\n",
    "# print(usVideos)\n",
    "usVideos = usVideos[usVideos[\"title\"].notna()]\n",
    "usVideos = usVideos[usVideos[\"description\"].notna()]\n",
    "usVideos[\"trending_date\"] = pd.to_datetime(usVideos[\"trending_date\"], format=\"%y.%d.%m\")\n",
    "usVideos[\"publish_time\"] = usVideos[\"publish_time\"].apply(lambda row: row[:-11].replace(\"T\", \" \"))\n",
    "usVideos[\"publish_time\"] = pd.to_datetime(usVideos[\"publish_time\"], format=\"%Y-%m-%d %H\") \n",
    "usVideos = usVideos[usVideos[\"video_id\"].notna()]\n",
    "usVideos = usVideos.drop_duplicates(subset=['video_id'])\n",
    "\n",
    "# Compute features including title lengths, tag lengths, net likes, and trending day differences\n",
    "usVideos[\"description_count\"] = usVideos[\"description\"].apply(lambda row: len(row))\n",
    "usVideos[\"title_count\"] = usVideos[\"title\"].apply(lambda row: len(row))\n",
    "usVideos[\"channel_title_count\"] = usVideos[\"channel_title\"].apply(lambda row: len(row))\n",
    "usVideos[\"net_likes\"] = usVideos[\"likes\"] - usVideos[\"dislikes\"]\n",
    "popular_thres = 10000\n",
    "usVideos[\"popular\"] = np.int32(usVideos[\"net_likes\"] > popular_thres)\n",
    "usVideos[\"trending_minute_differences\"] = usVideos[\"trending_date\"] - usVideos[\"publish_time\"]\n",
    "usVideos[\"trending_minute_differences\"] = usVideos[\"trending_minute_differences\"].apply(lambda row: row.seconds / 60)\n",
    "usVideos[\"tags_count\"] = usVideos[\"tags\"].apply(lambda row: len(row.split(\"|\")))\n",
    "usVideos[\"tags_avg_length\"] = usVideos[\"tags\"].apply(lambda row: np.mean(list(map(lambda x: len(x), row.split(\"|\")))))\n",
    "boolRows = [\"comments_disabled\", \"ratings_disabled\", \"video_error_or_removed\"]\n",
    "for i in boolRows:\n",
    "    usVideos[i] = usVideos[i].astype(int)\n",
    "# print(\"usVideos features computed:\")\n",
    "# print(usVideos)\n",
    "\n",
    "# TODO: Advanced features computations including title_sentiment, channel_title_sentiment, description_sentiment, tags_sentiment\n",
    "\n",
    "# Select features useful for training\n",
    "id = [\"video_id\"]\n",
    "xs = [\"category_id\", \"comments_disabled\", \"ratings_disabled\", \"video_error_or_removed\", \"title_count\", \"channel_title_count\", \"tags_count\", \"tags_avg_length\"]\n",
    "ys =  [\"popular\"]\n",
    "# ys =  [\"views\", \"likes\", \"dislikes\", \"trending_minute_differences\", \"net_likes\", \"popular\"]\n",
    "usVideosCleaned = usVideos[id + xs + ys]\n",
    "print(\"usVideos filtered contain:\")\n",
    "print(usVideosCleaned.columns)\n",
    "\n",
    "\n"
   ]
  },
  {
   "cell_type": "markdown",
   "metadata": {},
   "source": [
    "# Feature Visualizations"
   ]
  },
  {
   "cell_type": "code",
   "execution_count": 179,
   "metadata": {},
   "outputs": [],
   "source": []
  },
  {
   "cell_type": "markdown",
   "metadata": {},
   "source": [
    "# Model construction"
   ]
  },
  {
   "cell_type": "markdown",
   "metadata": {},
   "source": [
    "## PCA + MLP"
   ]
  },
  {
   "cell_type": "code",
   "execution_count": 22,
   "metadata": {},
   "outputs": [
    {
     "name": "stdout",
     "output_type": "stream",
     "text": [
      "6254\n"
     ]
    }
   ],
   "source": [
    "# Determine dataset partitions and labels\n",
    "size = len(usVideosCleaned)\n",
    "print(size)\n",
    "test_size = size // 4\n",
    "train_size = size - test_size\n",
    "partitions = {\"train\": usVideosCleaned[\"video_id\"][:train_size].to_list(), \n",
    "              \"test\": usVideosCleaned[\"video_id\"][train_size:].to_list()}\n",
    "labels = dict(zip(partitions[\"train\"]+partitions[\"test\"], usVideosCleaned[\"popular\"])) # classifying whether the video is popular\n",
    "# print(partitions)\n",
    "# print(labels)\n"
   ]
  },
  {
   "cell_type": "code",
   "execution_count": 6,
   "metadata": {},
   "outputs": [],
   "source": [
    "# Do dimensionality reduction to extract key features\n",
    "from sklearn.decomposition import PCA\n",
    "import pandas as pd\n",
    "# from copy import copy\n",
    "\n",
    "def pca_decompose(ds, n_components=4):\n",
    "    if (n_components==8):\n",
    "        return ds\n",
    "    vid = ds[\"video_id\"].to_list()\n",
    "    ds = ds.drop(columns=[\"video_id\"])\n",
    "    print(\"Before PCA: {}\".format(ds.shape))  \n",
    "    # print(ds)  \n",
    "    pca = PCA(n_components=n_components)\n",
    "    ds_pca = pca.fit_transform(ds)\n",
    "    print(\"After PCA: {}\".format(ds_pca.shape))  \n",
    "    ds_pca = pd.DataFrame(ds_pca)\n",
    "    ds_pca[\"video_id\"] = vid\n",
    "    # print(ds_pca)  \n",
    "    return ds_pca\n"
   ]
  },
  {
   "cell_type": "code",
   "execution_count": 8,
   "metadata": {},
   "outputs": [
    {
     "name": "stdout",
     "output_type": "stream",
     "text": [
      "Dataset size: 6254\n",
      "Before PCA: (6254, 8)\n",
      "After PCA: (6254, 4)\n",
      "Index([0, 1, 2, 3, 'video_id'], dtype='object')\n"
     ]
    }
   ],
   "source": [
    "# Dataset definitions\n",
    "import torch\n",
    "\n",
    "params = {'batch_size': 64,'shuffle': True,'num_workers': 6}\n",
    "# id_col = usVideosCleaned[\"video_id\"] \n",
    "label_col = usVideosCleaned[\"popular\"] \n",
    "# usVideosCleaned = usVideosCleaned.drop(columns=[\"popular\", \"video_id\"])\n",
    "usVideosCleanedFeats = usVideosCleaned.drop(columns=[\"popular\"])\n",
    "\n",
    "class Dataset(torch.utils.data.Dataset):\n",
    "    def __init__(self, list_ids, labels, data):\n",
    "        self.data = data\n",
    "        self.labels = labels\n",
    "        self.list_ids = list_ids\n",
    "    def __len__(self):\n",
    "        \"\"\"Denoting the total number of samples\"\"\"\n",
    "        # print(\"getting len {}\".format(len(self.list_ids)))\n",
    "        # print(len(self.list_ids))\n",
    "        return len(self.list_ids)\n",
    "    def __getitem__(self, index):\n",
    "        \"\"\"generator fetching one data and one label. Return: X, y\"\"\"\n",
    "        # print(self.data)\n",
    "        # print(self.data[\"video_id\"])\n",
    "        curr_id = self.list_ids[index]\n",
    "        y = self.labels[curr_id]\n",
    "        X = self.data.loc[self.data[\"video_id\"]==curr_id, :]\n",
    "        X = X.drop(columns=[\"video_id\"])\n",
    "        X = X.to_numpy()\n",
    "        # X = X.astype(np.float32)\n",
    "        # print(X, y)\n",
    "        # print(X.shape, X.dtype, type(y))\n",
    "        return torch.tensor(X, dtype=torch.float32), torch.tensor(y, dtype=torch.float32)\n",
    "\n",
    "# Dataset Preparations\n",
    "def prepare_usvideos_dataset(labels, data, partition, params=params):\n",
    "    training_set = Dataset(partition['train'], labels, data)\n",
    "    training_generator = torch.utils.data.DataLoader(training_set, **params)\n",
    "    test_set = Dataset(partition['test'], labels, data)\n",
    "    test_generator = torch.utils.data.DataLoader(test_set, **params)\n",
    "    return training_generator, test_generator\n",
    "        \n",
    "dataset_params = {'batch_size': 1024,'shuffle': True,'num_workers': 0}\n",
    "print(\"Dataset size: {}\".format(len(usVideosCleanedFeats)))\n",
    "usVideosCleanedFeats = pca_decompose(usVideosCleanedFeats)\n",
    "train_dl, test_dl = prepare_usvideos_dataset(labels, usVideosCleanedFeats, partitions, params=dataset_params)\n",
    "\n",
    "print(usVideosCleanedFeats.columns)\n",
    "# print(len(train_dl.dataset),len(test_dl.dataset))"
   ]
  },
  {
   "cell_type": "code",
   "execution_count": 11,
   "metadata": {},
   "outputs": [],
   "source": [
    "# MLP definitions\n",
    "import torch.nn as nn\n",
    "\n",
    "class MLP(nn.Module):\n",
    "    def __init__(self, in_dim=8, out_dim=1):\n",
    "        super(MLP, self).__init__()\n",
    "        assert out_dim==1, 'out_dim must be 1'\n",
    "        self.in_dim = in_dim\n",
    "        self.out_dim = out_dim\n",
    "        self.linear1 = nn.Linear(self.in_dim, 64)\n",
    "        self.act1 = nn.ReLU()\n",
    "        self.linear2 = nn.Linear(64, 256)\n",
    "        self.act2 = nn.ReLU()\n",
    "        self.linear3 = nn.Linear(256, 512)\n",
    "        self.act3 = nn.ReLU()\n",
    "        self.linear4 = nn.Linear(512, 128)\n",
    "        self.act4 = nn.ReLU()\n",
    "        self.linear5 = nn.Linear(128, 64)\n",
    "        self.act5 = nn.ReLU()\n",
    "        self.linear6 = nn.Linear(64, self.out_dim)\n",
    "        self.act6 = nn.Sigmoid()\n",
    "    def forward(self, x):\n",
    "        # print(\"stt\", x.shape)\n",
    "        x = self.act1(self.linear1(x))\n",
    "        # print(\"lin1pass\", x.shape)\n",
    "        x = self.act2(self.linear2(x))\n",
    "        # print(\"lin2pass\", x.shape)\n",
    "        x = self.act3(self.linear3(x))\n",
    "        x = self.act4(self.linear4(x))\n",
    "        x = self.act5(self.linear5(x))\n",
    "        x = self.act6(self.linear6(x))\n",
    "        return torch.squeeze(x)\n",
    "    "
   ]
  },
  {
   "cell_type": "code",
   "execution_count": 184,
   "metadata": {},
   "outputs": [],
   "source": [
    "# Model training stuffs\n",
    "import time\n",
    "import torch\n",
    "import os\n",
    "\n",
    "def train_model(train_dl, model, epochs=100, lr=0.01, momentum=0.9, save_step=10, save_dir='models'):\n",
    "    # Define your optimisation function for reducing loss when weights are calculated \n",
    "    # and propogated through the network\n",
    "    start = time.time()\n",
    "    criterion = torch.nn.BCELoss()\n",
    "    optimizer = torch.optim.SGD(model.parameters(), lr=lr, momentum=momentum)\n",
    "    loss = 0.0\n",
    "\n",
    "    for epoch in range(epochs):\n",
    "        model.train()\n",
    "        # print('train mode entered')\n",
    "        # Iterate through training data loader\n",
    "        losses = []\n",
    "        for i, (inputs, targets) in enumerate(train_dl):\n",
    "            # print(inputs.shape, targets.shape)\n",
    "            optimizer.zero_grad()\n",
    "            # print(\"sttinp\")\n",
    "            outputs = model(inputs)\n",
    "            # print(\"getout\")\n",
    "            # _, preds = torch.max(outputs.data,1) #Get the class labels\n",
    "            # print(outputs, targets)\n",
    "            loss = criterion(outputs, targets)\n",
    "            losses.append(loss.item())\n",
    "            # print(\"getloss\")\n",
    "            loss.backward()\n",
    "            # print(\"bgprob\")\n",
    "            optimizer.step()\n",
    "        epoch_loss = sum(losses)/len(losses)\n",
    "        if (epoch%save_step==0):\n",
    "            print(\"Saving model at step {}\".format(epoch+1))\n",
    "            save_path = os.path.join(save_dir, \"model_{}.pth\".format(epoch))\n",
    "            torch.save(model.state_dict(), save_path)\n",
    "        print('Epoch {}/{}. CE Loss {}'.format(epoch+1, epochs, epoch_loss))\n",
    "        # print('-' * 10)\n",
    "    time_delta = time.time() - start\n",
    "    print('Training complete in {:.0f}m {:.0f}s'.format(\n",
    "        time_delta // 60, time_delta % 60\n",
    "    ))\n",
    "    save_path = os.path.join(save_dir, \"model_final.pth\")\n",
    "    print(\"Final save of model to {}.\".format(save_path))\n",
    "    torch.save(model.state_dict(), save_path)\n",
    "    return model"
   ]
  },
  {
   "cell_type": "code",
   "execution_count": 185,
   "metadata": {},
   "outputs": [
    {
     "name": "stdout",
     "output_type": "stream",
     "text": [
      "Saving model at step 1\n",
      "Epoch 1/100. CE Loss 0.6493282079696655\n",
      "Epoch 2/100. CE Loss 0.6321143269538879\n",
      "Epoch 3/100. CE Loss 0.6280970931053161\n",
      "Epoch 4/100. CE Loss 0.6205885171890259\n",
      "Epoch 5/100. CE Loss 0.624156391620636\n",
      "Epoch 6/100. CE Loss 0.6223018407821655\n",
      "Epoch 7/100. CE Loss 0.6177451610565186\n",
      "Epoch 8/100. CE Loss 0.6218402266502381\n",
      "Epoch 9/100. CE Loss 0.6190341472625732\n",
      "Epoch 10/100. CE Loss 0.6200924038887023\n",
      "Saving model at step 11\n",
      "Epoch 11/100. CE Loss 0.6182940840721131\n",
      "Epoch 12/100. CE Loss 0.6161196112632752\n",
      "Epoch 13/100. CE Loss 0.6165620446205139\n",
      "Epoch 14/100. CE Loss 0.6135132670402527\n",
      "Epoch 15/100. CE Loss 0.6153320789337158\n",
      "Epoch 16/100. CE Loss 0.6126574277877808\n",
      "Epoch 17/100. CE Loss 0.6143855452537537\n",
      "Epoch 18/100. CE Loss 0.6134192824363709\n",
      "Epoch 19/100. CE Loss 0.6106968760490418\n",
      "Epoch 20/100. CE Loss 0.6131567597389221\n",
      "Saving model at step 21\n",
      "Epoch 21/100. CE Loss 0.6128958582878112\n",
      "Epoch 22/100. CE Loss 0.6079392194747925\n",
      "Epoch 23/100. CE Loss 0.6101781606674195\n",
      "Epoch 24/100. CE Loss 0.6078185319900513\n",
      "Epoch 25/100. CE Loss 0.6079764366149902\n",
      "Epoch 26/100. CE Loss 0.6092161893844604\n",
      "Epoch 27/100. CE Loss 0.6109845995903015\n",
      "Epoch 28/100. CE Loss 0.6067063093185425\n",
      "Epoch 29/100. CE Loss 0.6072897911071777\n",
      "Epoch 30/100. CE Loss 0.611230993270874\n",
      "Saving model at step 31\n",
      "Epoch 31/100. CE Loss 0.6090298414230346\n",
      "Epoch 32/100. CE Loss 0.6096176147460938\n",
      "Epoch 33/100. CE Loss 0.605179488658905\n",
      "Epoch 34/100. CE Loss 0.6071449995040894\n",
      "Epoch 35/100. CE Loss 0.6057042717933655\n",
      "Epoch 36/100. CE Loss 0.6063934445381165\n",
      "Epoch 37/100. CE Loss 0.6088762402534484\n",
      "Epoch 38/100. CE Loss 0.6046513438224792\n",
      "Epoch 39/100. CE Loss 0.5985658168792725\n",
      "Epoch 40/100. CE Loss 0.5986814975738526\n",
      "Saving model at step 41\n",
      "Epoch 41/100. CE Loss 0.5974722504615784\n",
      "Epoch 42/100. CE Loss 0.5973246455192566\n",
      "Epoch 43/100. CE Loss 0.5995854616165162\n",
      "Epoch 44/100. CE Loss 0.5983190298080444\n",
      "Epoch 45/100. CE Loss 0.5922268271446228\n",
      "Epoch 46/100. CE Loss 0.594887888431549\n",
      "Epoch 47/100. CE Loss 0.5987808465957641\n",
      "Epoch 48/100. CE Loss 0.5930227398872375\n",
      "Epoch 49/100. CE Loss 0.5906993389129639\n",
      "Epoch 50/100. CE Loss 0.5877744078636169\n",
      "Saving model at step 51\n",
      "Epoch 51/100. CE Loss 0.5893349647521973\n",
      "Epoch 52/100. CE Loss 0.5886706113815308\n",
      "Epoch 53/100. CE Loss 0.5883998274803162\n",
      "Epoch 54/100. CE Loss 0.5849653840065002\n",
      "Epoch 55/100. CE Loss 0.5838097095489502\n",
      "Epoch 56/100. CE Loss 0.5870461225509643\n",
      "Epoch 57/100. CE Loss 0.5883789896965027\n",
      "Epoch 58/100. CE Loss 0.5899946331977844\n",
      "Epoch 59/100. CE Loss 0.5828856110572815\n",
      "Epoch 60/100. CE Loss 0.5811004519462586\n",
      "Saving model at step 61\n",
      "Epoch 61/100. CE Loss 0.5856856822967529\n",
      "Epoch 62/100. CE Loss 0.5844235301017762\n",
      "Epoch 63/100. CE Loss 0.5835533142089844\n",
      "Epoch 64/100. CE Loss 0.5766317963600158\n",
      "Epoch 65/100. CE Loss 0.574027681350708\n",
      "Epoch 66/100. CE Loss 0.5841418504714966\n",
      "Epoch 67/100. CE Loss 0.5795629978179931\n",
      "Epoch 68/100. CE Loss 0.5850338220596314\n",
      "Epoch 69/100. CE Loss 0.5799747347831726\n",
      "Epoch 70/100. CE Loss 0.5758600473403931\n",
      "Saving model at step 71\n",
      "Epoch 71/100. CE Loss 0.578584635257721\n",
      "Epoch 72/100. CE Loss 0.5732117176055909\n",
      "Epoch 73/100. CE Loss 0.5773514866828918\n",
      "Epoch 74/100. CE Loss 0.575881278514862\n",
      "Epoch 75/100. CE Loss 0.5713623404502869\n",
      "Epoch 76/100. CE Loss 0.568707549571991\n",
      "Epoch 77/100. CE Loss 0.574204421043396\n",
      "Epoch 78/100. CE Loss 0.5617770195007324\n",
      "Epoch 79/100. CE Loss 0.5645442247390747\n",
      "Epoch 80/100. CE Loss 0.5641276955604553\n",
      "Saving model at step 81\n",
      "Epoch 81/100. CE Loss 0.5619070172309876\n",
      "Epoch 82/100. CE Loss 0.5578603863716125\n",
      "Epoch 83/100. CE Loss 0.5573768019676208\n",
      "Epoch 84/100. CE Loss 0.5588718771934509\n",
      "Epoch 85/100. CE Loss 0.57289719581604\n",
      "Epoch 86/100. CE Loss 0.5640583634376526\n",
      "Epoch 87/100. CE Loss 0.5658237934112549\n",
      "Epoch 88/100. CE Loss 0.560789954662323\n",
      "Epoch 89/100. CE Loss 0.559902286529541\n",
      "Epoch 90/100. CE Loss 0.5524840831756592\n",
      "Saving model at step 91\n",
      "Epoch 91/100. CE Loss 0.5521643161773682\n",
      "Epoch 92/100. CE Loss 0.5689376473426819\n",
      "Epoch 93/100. CE Loss 0.5639105081558228\n",
      "Epoch 94/100. CE Loss 0.5643902540206909\n",
      "Epoch 95/100. CE Loss 0.5557289481163025\n",
      "Epoch 96/100. CE Loss 0.5550765275955201\n",
      "Epoch 97/100. CE Loss 0.5498867630958557\n",
      "Epoch 98/100. CE Loss 0.550732696056366\n",
      "Epoch 99/100. CE Loss 0.5617265105247498\n",
      "Epoch 100/100. CE Loss 0.5528449058532715\n",
      "Training complete in 8m 7s\n",
      "Final save of model to models\\model_final.pth.\n"
     ]
    },
    {
     "data": {
      "text/plain": [
       "MLP(\n",
       "  (linear1): Linear(in_features=4, out_features=64, bias=True)\n",
       "  (act1): ReLU()\n",
       "  (linear2): Linear(in_features=64, out_features=256, bias=True)\n",
       "  (act2): ReLU()\n",
       "  (linear3): Linear(in_features=256, out_features=512, bias=True)\n",
       "  (act3): ReLU()\n",
       "  (linear4): Linear(in_features=512, out_features=128, bias=True)\n",
       "  (act4): ReLU()\n",
       "  (linear5): Linear(in_features=128, out_features=64, bias=True)\n",
       "  (act5): ReLU()\n",
       "  (linear6): Linear(in_features=64, out_features=1, bias=True)\n",
       "  (act6): Sigmoid()\n",
       ")"
      ]
     },
     "execution_count": 185,
     "metadata": {},
     "output_type": "execute_result"
    }
   ],
   "source": [
    "# Build the model\n",
    "model = MLP(in_dim=4)\n",
    "train_model(train_dl, model, \n",
    "            save_step=10, \n",
    "            save_dir='models',\n",
    "            epochs=100, \n",
    "            lr=0.1)\n"
   ]
  },
  {
   "cell_type": "markdown",
   "metadata": {},
   "source": [
    "# Model evaluations"
   ]
  },
  {
   "cell_type": "markdown",
   "metadata": {},
   "source": [
    "## MLP + PCA"
   ]
  },
  {
   "cell_type": "code",
   "execution_count": 1,
   "metadata": {},
   "outputs": [],
   "source": [
    "# Model evaluation stuffs\n",
    "import math\n",
    "import torch\n",
    "import numpy as np\n",
    "from sklearn.metrics import confusion_matrix, recall_score, f1_score\n",
    "from sklearn.metrics import accuracy_score, roc_auc_score, precision_score, average_precision_score\n",
    "\n",
    "def predict(row, model):\n",
    "    row = torch.Tensor([row])\n",
    "    yhat = model(row)\n",
    "    # Get numpy array\n",
    "    yhat = yhat.detach().numpy()\n",
    "    return yhat  \n",
    "\n",
    "def evaluate_model(test_dl, model, beta=1.0):\n",
    "    preds = np.zeros((len(test_dl.dataset)))\n",
    "    actuals = np.zeros((len(test_dl.dataset)))\n",
    " \n",
    "    curr_ind = 0\n",
    "    for (i, (inputs, targets)) in enumerate(test_dl):\n",
    "        # print(inputs.shape, targets.shape)\n",
    "        #Evaluate the model on the test set\n",
    "        yhat = model(inputs)\n",
    "        #Retrieve a numpy weights array\n",
    "        yhat = yhat.detach().numpy()\n",
    "        # Extract the weights using detach to get the numerical values in an ndarray, instead of tensor\n",
    "        targets = targets.numpy()\n",
    "        # Round to get the class value i.e. sick vs not sick\n",
    "        yhat = yhat.round()\n",
    "        # Store the predictions in the empty lists initialised at the start of the class\n",
    "        # print(yhat.shape, targets.shape)\n",
    "        # print(preds.shape, actuals.shape)\n",
    "        batch_size = len(yhat)\n",
    "        preds[curr_ind:curr_ind+batch_size] = yhat\n",
    "        actuals[curr_ind:curr_ind+batch_size] = targets\n",
    "        curr_ind += batch_size\n",
    "     \n",
    "    #Calculate metrics\n",
    "    cm = confusion_matrix(actuals, preds)\n",
    "    # Get descriptions of tp, tn, fp, fn\n",
    "    tn, fp, fn, tp = cm.ravel()\n",
    "    total = sum(cm.ravel())\n",
    "     \n",
    "    metrics = {\n",
    "        'accuracy': accuracy_score(actuals, preds),\n",
    "        'AU_ROC': roc_auc_score(actuals, preds),\n",
    "        'f1_score': f1_score(actuals, preds),\n",
    "        'average_precision_score': average_precision_score(actuals, preds),\n",
    "        'f_beta': ((1+beta**2) * precision_score(actuals, preds) * recall_score(actuals, preds)) / (beta**2 * precision_score(actuals, preds) + recall_score(actuals, preds)),\n",
    "        'matthews_correlation_coefficient': (tp*tn - fp*fn) / math.sqrt((tp+fp)*(tp+fn)*(tn+fp)*(tn+fn)),\n",
    "        'precision': precision_score(actuals, preds),\n",
    "        'recall': recall_score(actuals, preds),\n",
    "        'true_positive_rate_TPR':recall_score(actuals, preds),\n",
    "        'false_positive_rate_FPR':fp / (fp + tn) ,\n",
    "        'false_discovery_rate': fp / (fp +tp),\n",
    "        'false_negative_rate': fn / (fn + tp) ,\n",
    "        'negative_predictive_value': tn / (tn+fn),\n",
    "        'misclassification_error_rate': (fp+fn)/total ,\n",
    "        'sensitivity': tp / (tp + fn),\n",
    "        'specificity': tn / (tn + fp),\n",
    "        #'confusion_matrix': confusion_matrix(actuals, preds), \n",
    "        'TP': tp,\n",
    "        'FP': fp, \n",
    "        'FN': fn, \n",
    "        'TN': tn\n",
    "    }\n",
    "    return metrics, preds, actuals\n",
    "\n",
    "def get_model_eval_metrics(test_dl, model_path, in_dim):\n",
    "    model = MLP(in_dim=in_dim)\n",
    "    model.load_state_dict(torch.load(model_path))\n",
    "    model.eval()\n",
    "    return evaluate_model(test_dl, model)\n",
    "    \n",
    "    "
   ]
  },
  {
   "cell_type": "code",
   "execution_count": 24,
   "metadata": {},
   "outputs": [
    {
     "name": "stdout",
     "output_type": "stream",
     "text": [
      "6254\n"
     ]
    }
   ],
   "source": [
    "# Determine dataset partitions and labels\n",
    "size = len(usVideosCleaned)\n",
    "print(size)\n",
    "test_size = size // 4\n",
    "train_size = size - test_size\n",
    "partitions = {\"train\": usVideosCleaned[\"video_id\"][:train_size].to_list(), \n",
    "              \"test\": usVideosCleaned[\"video_id\"][train_size:].to_list()}\n",
    "labels = dict(zip(partitions[\"train\"]+partitions[\"test\"], usVideosCleaned[\"popular\"])) # classifying whether the video is popular\n",
    "# print(partitions)\n",
    "# print(labels)\n"
   ]
  },
  {
   "cell_type": "markdown",
   "metadata": {},
   "source": [
    "### Comparisons for MLP with and without PCA, as well as PCAs with different number of components:"
   ]
  },
  {
   "cell_type": "code",
   "execution_count": 12,
   "metadata": {},
   "outputs": [
    {
     "name": "stdout",
     "output_type": "stream",
     "text": [
      "Before PCA: (6254, 8)\n",
      "After PCA: (6254, 2)\n",
      "Before PCA: (6254, 8)\n",
      "After PCA: (6254, 3)\n",
      "Before PCA: (6254, 8)\n",
      "After PCA: (6254, 4)\n",
      "Before PCA: (6254, 8)\n",
      "After PCA: (6254, 4)\n"
     ]
    }
   ],
   "source": [
    "# Comparing MLP performance with and without PCA\n",
    "import matplotlib.pyplot as plt\n",
    "import numpy as np \n",
    "\n",
    "# Get overall evaluations\n",
    "acc, auroc, f1 = [], [], []\n",
    "model_no_pca_path = \"models/mlp_no_pca/model_final.pth\"\n",
    "model_pca2_path = \"models/mlp_with_pca_comp2/model_final.pth\"\n",
    "model_pca3_path = \"models/mlp_with_pca_comp3/model_final.pth\"\n",
    "model_pca4_path = \"models/mlp_with_pca_comp4/model_final.pth\"\n",
    "model_pca4_optim_path = \"models/mlp_with_pca_comp4/optim_model_80.pth\"\n",
    "pca_model_paths = [model_no_pca_path, model_pca2_path, model_pca3_path, model_pca4_path, model_pca4_optim_path]\n",
    "input_dims = [8, 2, 3, 4, 4]\n",
    "for p, d in zip(pca_model_paths, input_dims):\n",
    "    # Determine datasets for different number of PCA components\n",
    "    label_col = usVideosCleaned[\"popular\"] \n",
    "    usVideosCleanedFeats = usVideosCleaned.drop(columns=[\"popular\"])\n",
    "    usVideosCleanedFeats = pca_decompose(usVideosCleanedFeats, n_components=d)\n",
    "    _, test_dl = prepare_usvideos_dataset(labels, usVideosCleanedFeats, partitions, params=dataset_params)\n",
    "\n",
    "    # Evaluate to get metrics\n",
    "    pca_metrics, _, _ = get_model_eval_metrics(test_dl, p, in_dim=d)\n",
    "    acc.append(pca_metrics[\"accuracy\"])\n",
    "    auroc.append(pca_metrics[\"AU_ROC\"])\n",
    "    f1.append(pca_metrics[\"f1_score\"])\n",
    "\n"
   ]
  },
  {
   "cell_type": "code",
   "execution_count": 21,
   "metadata": {},
   "outputs": [
    {
     "name": "stdout",
     "output_type": "stream",
     "text": [
      "[0.490722968650032, 0.417786308381318, 0.43570057581573896, 0.4984005118362124, 0.5431861804222649]\n"
     ]
    },
    {
     "data": {
      "image/png": "[encoded data removed]",
      "text/plain": [
       "<Figure size 640x480 with 1 Axes>"
      ]
     },
     "metadata": {},
     "output_type": "display_data"
    }
   ],
   "source": [
    "# Plot accuracy map\n",
    "N = len(pca_model_paths)\n",
    "ind = np.arange(N)  \n",
    "width = 0.25\n",
    "  \n",
    "bar2 = plt.bar(ind, acc, width, color = 'b') \n",
    "print(acc)\n",
    "plt.xlabel(\"Experiments\") \n",
    "plt.ylabel('Accuracy (%)') \n",
    "plt.title(\"Accuracy map of MLP\") \n",
    "  \n",
    "plt.xticks(ind,['no PCA,\\nepoch=100', 'component=2,\\nepoch=100', 'component=3,\\nepoch=100', 'component=4,\\nepoch=100', 'component=4\\nepoch=80']) \n",
    "# plt.legend(bar1) \n",
    "plt.show() \n",
    "\n"
   ]
  },
  {
   "cell_type": "markdown",
   "metadata": {},
   "source": [
    "### Confusion Matrix of the best model:"
   ]
  },
  {
   "cell_type": "code",
   "execution_count": 15,
   "metadata": {},
   "outputs": [
    {
     "data": {
      "image/png": "[encoded data removed]",
      "text/plain": [
       "<Figure size 640x480 with 2 Axes>"
      ]
     },
     "metadata": {},
     "output_type": "display_data"
    }
   ],
   "source": [
    "# Plot the confusion matrix\n",
    "from sklearn.metrics import confusion_matrix, ConfusionMatrixDisplay\n",
    "\n",
    "model_pca_path = \"models/mlp_with_pca_comp4/optim_model_80.pth\"\n",
    "pca_metrics, preds, actuals = get_model_eval_metrics(test_dl, model_pca_path, in_dim=4)\n",
    "\n",
    "conf_mat = confusion_matrix(preds, actuals) \n",
    "disp = ConfusionMatrixDisplay(confusion_matrix=conf_mat)\n",
    "disp.plot()\n",
    "plt.show()"
   ]
  }
 ],
 "metadata": {
  "kernelspec": {
   "display_name": "base",
   "language": "python",
   "name": "python3"
  },
  "language_info": {
   "codemirror_mode": {
    "name": "ipython",
    "version": 3
   },
   "file_extension": ".py",
   "mimetype": "text/x-python",
   "name": "python",
   "nbconvert_exporter": "python",
   "pygments_lexer": "ipython3",
   "version": "3.10.3"
  }
 },
 "nbformat": 4,
 "nbformat_minor": 2
}
